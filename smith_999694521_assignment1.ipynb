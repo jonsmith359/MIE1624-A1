{
 "cells": [
  {
   "cell_type": "markdown",
   "metadata": {},
   "source": [
    "## Library Imports"
   ]
  },
  {
   "cell_type": "code",
   "execution_count": 48,
   "metadata": {
    "collapsed": false
   },
   "outputs": [],
   "source": [
    "from whoosh import index, writing, scoring\n",
    "from whoosh.fields import Schema, TEXT, KEYWORD, ID, STORED\n",
    "from whoosh.analysis import *\n",
    "from whoosh.qparser import QueryParser\n",
    "from nltk.tokenize import *\n",
    "import os, os.path\n",
    "import shutil\n",
    "import pandas as pd\n",
    "import re\n",
    "from tqdm import tqdm\n",
    "from nltk.tokenize.moses import MosesTokenizer \n",
    "from nltk.tokenize.moses import MosesDetokenizer\n",
    "from sklearn.feature_extraction.text import TfidfVectorizer\n",
    "from sklearn.cross_validation import train_test_split\n",
    "from sklearn.linear_model import LogisticRegression\n",
    "import sklearn.metrics as metrics \n",
    "import matplotlib.pyplot as plt; plt.rcdefaults()\n",
    "import numpy as np\n",
    "import matplotlib.pyplot as plt\n",
    "import matplotlib.pyplot as plt\n",
    "%matplotlib inline\n",
    "import seaborn as sns\n",
    "from sklearn.model_selection import GridSearchCV"
   ]
  },
  {
   "cell_type": "code",
   "execution_count": 53,
   "metadata": {
    "collapsed": true
   },
   "outputs": [],
   "source": [
    "# Create tokenizer and detokenizer for future use\n",
    "tokenizer = MosesTokenizer()\n",
    "detokenizer = MosesDetokenizer()"
   ]
  },
  {
   "cell_type": "markdown",
   "metadata": {},
   "source": [
    "## File Imports"
   ]
  },
  {
   "cell_type": "code",
   "execution_count": 15,
   "metadata": {
    "collapsed": false
   },
   "outputs": [],
   "source": [
    "# List file locations for inputs\n",
    "classified_tweets_path = \"classified_tweets.txt\"\n",
    "unclassified_tweets_path = \"unclassified_tweets.txt\"\n",
    "stop_words_path = \"stop_words.txt\""
   ]
  },
  {
   "cell_type": "code",
   "execution_count": 54,
   "metadata": {
    "collapsed": false
   },
   "outputs": [],
   "source": [
    "# Read stop words\n",
    "with open(stop_words_path) as f:\n",
    "    stop_words = f.readlines()\n",
    "stop_words = [x.strip('\\n') for x in stop_words]"
   ]
  },
  {
   "cell_type": "code",
   "execution_count": 17,
   "metadata": {
    "collapsed": false
   },
   "outputs": [
    {
     "data": {
      "text/html": [
       "<div>\n",
       "<table border=\"1\" class=\"dataframe\">\n",
       "  <thead>\n",
       "    <tr style=\"text-align: right;\">\n",
       "      <th></th>\n",
       "      <th>class</th>\n",
       "      <th>text</th>\n",
       "    </tr>\n",
       "  </thead>\n",
       "  <tbody>\n",
       "    <tr>\n",
       "      <th>0</th>\n",
       "      <td>0</td>\n",
       "      <td>@switchfoot http://twitpic.com/2y1zl - Awww, t...</td>\n",
       "    </tr>\n",
       "    <tr>\n",
       "      <th>1</th>\n",
       "      <td>0</td>\n",
       "      <td>is upset that he can't update his Facebook by ...</td>\n",
       "    </tr>\n",
       "    <tr>\n",
       "      <th>2</th>\n",
       "      <td>0</td>\n",
       "      <td>@Kenichan I dived many times for the ball. Man...</td>\n",
       "    </tr>\n",
       "    <tr>\n",
       "      <th>3</th>\n",
       "      <td>0</td>\n",
       "      <td>my whole body feels itchy and like its on fire</td>\n",
       "    </tr>\n",
       "    <tr>\n",
       "      <th>4</th>\n",
       "      <td>0</td>\n",
       "      <td>@nationwideclass no, it's not behaving at all....</td>\n",
       "    </tr>\n",
       "  </tbody>\n",
       "</table>\n",
       "</div>"
      ],
      "text/plain": [
       "   class                                               text\n",
       "0      0  @switchfoot http://twitpic.com/2y1zl - Awww, t...\n",
       "1      0  is upset that he can't update his Facebook by ...\n",
       "2      0  @Kenichan I dived many times for the ball. Man...\n",
       "3      0    my whole body feels itchy and like its on fire \n",
       "4      0  @nationwideclass no, it's not behaving at all...."
      ]
     },
     "execution_count": 17,
     "metadata": {},
     "output_type": "execute_result"
    }
   ],
   "source": [
    "# Read classified tweets into dataframe\n",
    "classified_tweets = pd.read_csv(classified_tweets_path,encoding=\"utf-8\", usecols=['class','text'])\n",
    "classified_tweets.head()"
   ]
  },
  {
   "cell_type": "code",
   "execution_count": 72,
   "metadata": {
    "collapsed": false
   },
   "outputs": [
    {
     "data": {
      "text/html": [
       "<div>\n",
       "<table border=\"1\" class=\"dataframe\">\n",
       "  <thead>\n",
       "    <tr style=\"text-align: right;\">\n",
       "      <th></th>\n",
       "      <th>text</th>\n",
       "    </tr>\n",
       "  </thead>\n",
       "  <tbody>\n",
       "    <tr>\n",
       "      <th>0</th>\n",
       "      <td>﻿living the dream. #cameraman #camera #camerac...</td>\n",
       "    </tr>\n",
       "    <tr>\n",
       "      <th>1</th>\n",
       "      <td>justin #trudeau's reasons for thanksgiving. to...</td>\n",
       "    </tr>\n",
       "    <tr>\n",
       "      <th>2</th>\n",
       "      <td>@themadape   butt…..butt…..we’re allergic to l...</td>\n",
       "    </tr>\n",
       "    <tr>\n",
       "      <th>3</th>\n",
       "      <td>2 massive explosions at peace march in #turkey...</td>\n",
       "    </tr>\n",
       "    <tr>\n",
       "      <th>4</th>\n",
       "      <td>#mulcair suggests there’s bad blood between hi...</td>\n",
       "    </tr>\n",
       "  </tbody>\n",
       "</table>\n",
       "</div>"
      ],
      "text/plain": [
       "                                                text\n",
       "0  ﻿living the dream. #cameraman #camera #camerac...\n",
       "1  justin #trudeau's reasons for thanksgiving. to...\n",
       "2  @themadape   butt…..butt…..we’re allergic to l...\n",
       "3  2 massive explosions at peace march in #turkey...\n",
       "4  #mulcair suggests there’s bad blood between hi..."
      ]
     },
     "execution_count": 72,
     "metadata": {},
     "output_type": "execute_result"
    }
   ],
   "source": [
    "# Read raw unclassified tweets\n",
    "with open(unclassified_tweets_path) as f:\n",
    "    unclassified_tweets = f.readlines()\n",
    "\n",
    "# Strip new lines and blanks lines from unclassified tweets\n",
    "unclassified_tweets_temp = []\n",
    "for line in unclassified_tweets:\n",
    "    if line.strip():\n",
    "        unclassified_tweets_temp.append(line)\n",
    "unclassified_tweets_temp = [x.strip('\\n') for x in unclassified_tweets_temp]\n",
    "\n",
    "# Write to dataframe\n",
    "unclassified_tweets = pd.DataFrame(unclassified_tweets_temp,columns=['text'])\n",
    "unclassified_tweets.head()"
   ]
  },
  {
   "cell_type": "markdown",
   "metadata": {},
   "source": [
    "## 1. Clean tweets\n",
    "Prepare tweets for further analysis"
   ]
  },
  {
   "cell_type": "code",
   "execution_count": 73,
   "metadata": {
    "collapsed": false
   },
   "outputs": [],
   "source": [
    "def tweet_cleaner(tweet_df):\n",
    "    '''\n",
    "    Function to clean and tokenize the 'text' column of a dataframe.\n",
    "    Input: dataframe with 'text' column populated with strings to be cleaned\n",
    "    Output: input dataframe with 'text' column entries cleaned as follows:\n",
    "        a) Remove HTML tags & attributes ******\n",
    "        b) Replace HTML character codes with ASCII equivalent ********\n",
    "        c) Remove URLs\n",
    "        d) make text lowercase\n",
    "        e) Remove stopwords\n",
    "        f) Changed from string to list of tokens\n",
    "    '''\n",
    "    # Create NLTK filter to tokenize, switch to lowercase and remove stop words\n",
    "    tokenizer = RegexTokenizer() | LowercaseFilter() | StopFilter()\n",
    "    \n",
    "    # Create Regex filter to remove URL's\n",
    "    # Source: https://gist.github.com/gruber/249502\n",
    "    url_regex = r'\\b((?:[a-z][\\w-]+:(?:\\/{1,3}|[a-z0-9%])|www\\d{0,3}[.]|[a-z0-9.\\-]+[.][a-z]{2,4}\\/?)(?:[^\\s()<>]+|\\(([^\\s()<>]+|(\\([^\\s()<>]+\\)))*\\)){0,}(?:\\(([^\\s()<>]+|(\\([^\\s()<>]+\\)))*\\)|[^\\s\\!()\\[\\]{};:\\'\\\"\\.\\,<>?«»“”‘’‘’]){0,})'\n",
    "    \n",
    "    # Loop over all entries in 'text' column\n",
    "    for i,tweet in enumerate(tweet_df.text.head(100)):\n",
    "        # Remove urls\n",
    "        tweet = re.sub(url_regex, \"\", tweet)\n",
    "        \n",
    "        # Tokenize, remove stop words, convert to lowercase\n",
    "        tweet = [token.text for token in tokenizer(tweet)]\n",
    "        \n",
    "        # Detokenize\n",
    "        tweet = detokenizer.detokenize(tweet, return_str=True)\n",
    "        \n",
    "        # Overwrite original value\n",
    "        tweet_df.set_value(i,'text',tweet)\n",
    "\n",
    "    return tweet_df"
   ]
  },
  {
   "cell_type": "code",
   "execution_count": 74,
   "metadata": {
    "collapsed": false,
    "scrolled": true
   },
   "outputs": [
    {
     "data": {
      "text/html": [
       "<div>\n",
       "<table border=\"1\" class=\"dataframe\">\n",
       "  <thead>\n",
       "    <tr style=\"text-align: right;\">\n",
       "      <th></th>\n",
       "      <th>text</th>\n",
       "    </tr>\n",
       "  </thead>\n",
       "  <tbody>\n",
       "    <tr>\n",
       "      <th>0</th>\n",
       "      <td>living dream cameraman camera cameraception ca...</td>\n",
       "    </tr>\n",
       "    <tr>\n",
       "      <th>1</th>\n",
       "      <td>justin trudeau reasons thanksgiving today mont...</td>\n",
       "    </tr>\n",
       "    <tr>\n",
       "      <th>2</th>\n",
       "      <td>themadape butt butt re allergic latex makes sn...</td>\n",
       "    </tr>\n",
       "    <tr>\n",
       "      <th>3</th>\n",
       "      <td>massive explosions peace march turkey 30 kille...</td>\n",
       "    </tr>\n",
       "    <tr>\n",
       "      <th>4</th>\n",
       "      <td>mulcair suggests there bad blood between him t...</td>\n",
       "    </tr>\n",
       "  </tbody>\n",
       "</table>\n",
       "</div>"
      ],
      "text/plain": [
       "                                                text\n",
       "0  living dream cameraman camera cameraception ca...\n",
       "1  justin trudeau reasons thanksgiving today mont...\n",
       "2  themadape butt butt re allergic latex makes sn...\n",
       "3  massive explosions peace march turkey 30 kille...\n",
       "4  mulcair suggests there bad blood between him t..."
      ]
     },
     "execution_count": 74,
     "metadata": {},
     "output_type": "execute_result"
    }
   ],
   "source": [
    "tweet_cleaner(unclassified_tweets)\n",
    "unclassified_tweets.head()"
   ]
  },
  {
   "cell_type": "code",
   "execution_count": 75,
   "metadata": {
    "collapsed": false,
    "scrolled": true
   },
   "outputs": [
    {
     "data": {
      "text/html": [
       "<div>\n",
       "<table border=\"1\" class=\"dataframe\">\n",
       "  <thead>\n",
       "    <tr style=\"text-align: right;\">\n",
       "      <th></th>\n",
       "      <th>class</th>\n",
       "      <th>text</th>\n",
       "    </tr>\n",
       "  </thead>\n",
       "  <tbody>\n",
       "    <tr>\n",
       "      <th>0</th>\n",
       "      <td>0</td>\n",
       "      <td>switchfoot awww bummer shoulda got david carr ...</td>\n",
       "    </tr>\n",
       "    <tr>\n",
       "      <th>1</th>\n",
       "      <td>0</td>\n",
       "      <td>upset he update his facebook texting might cry...</td>\n",
       "    </tr>\n",
       "    <tr>\n",
       "      <th>2</th>\n",
       "      <td>0</td>\n",
       "      <td>kenichan dived many times ball managed save 50...</td>\n",
       "    </tr>\n",
       "    <tr>\n",
       "      <th>3</th>\n",
       "      <td>0</td>\n",
       "      <td>my whole body feels itchy like its fire</td>\n",
       "    </tr>\n",
       "    <tr>\n",
       "      <th>4</th>\n",
       "      <td>0</td>\n",
       "      <td>nationwideclass no behaving all mad why am her...</td>\n",
       "    </tr>\n",
       "  </tbody>\n",
       "</table>\n",
       "</div>"
      ],
      "text/plain": [
       "   class                                               text\n",
       "0      0  switchfoot awww bummer shoulda got david carr ...\n",
       "1      0  upset he update his facebook texting might cry...\n",
       "2      0  kenichan dived many times ball managed save 50...\n",
       "3      0            my whole body feels itchy like its fire\n",
       "4      0  nationwideclass no behaving all mad why am her..."
      ]
     },
     "execution_count": 75,
     "metadata": {},
     "output_type": "execute_result"
    }
   ],
   "source": [
    "tweet_cleaner(classified_tweets)\n",
    "classified_tweets.head()"
   ]
  },
  {
   "cell_type": "markdown",
   "metadata": {},
   "source": [
    "## 2. Exploratory Analysis\n",
    "Assign political party to each tweet"
   ]
  },
  {
   "cell_type": "code",
   "execution_count": 85,
   "metadata": {
    "collapsed": false
   },
   "outputs": [],
   "source": [
    "def assign_party (tweet_df):\n",
    "    '''\n",
    "    Function to assign a political party to each tweet in column 'text'\n",
    "    Input: dataframe with 'text' column populated with tweets\n",
    "    Output: input dataframe with extra column categorizing the tweet as Conservative, Liberal, NDP or other \n",
    "    '''\n",
    "    # Add column to dataframe for political party classification\n",
    "    tweet_df['party'] = ''\n",
    "    \n",
    "    # Create list of words associated with each political party\n",
    "    lib_list = ['justin','trudeau','justintrudeau', 'libéral', 'liberal', 'liberals','libs','lib', 'liberal_party',\n",
    "                'lpc','ptlib','realchange','kathleen_wynne','mcguinty', 'yvonnejjones','teamtrudeau']\n",
    "    con_list = ['stephenharper','steven', 'harper','stevenharper','conservative', 'cpc', 'pmharper','pm','pierrepoilievre',\n",
    "                'poilievre','conservatives','pcers','pc','pttory','justnotready','duffy',\n",
    "               'primeminister','prime','minister', 'tory', 'tories','canadianvalues','minjoeoliver',\n",
    "               'premierministre','premierministreharper']\n",
    "    ndp_list = ['tom','mulcair','thomasmulcair', 'tommulcair', 'ndp', 'ndp_hq','ptndp','ndp2015','whatwouldjackdo',\n",
    "               'leap','rablaney']\n",
    "    \n",
    "    # Initialize counters for occurences of each party\n",
    "    lib_count = 0\n",
    "    con_count = 0\n",
    "    npd_count = 0\n",
    "    oth_count = 0\n",
    "    \n",
    "    # Assign party to each tweet\n",
    "    for i,tweet in enumerate(tweet_df.text):\n",
    "        # The score of a tweet with respect to a particular party is determined by how many words overlap with above associated words\n",
    "        tweet = tokenizer.tokenize(tweet)\n",
    "        lib_score = len(set(tweet) & set(lib_list))\n",
    "        con_score = len(set(tweet) & set(con_list))\n",
    "        ndp_score = len(set(tweet) & set(ndp_list))\n",
    "        \n",
    "        if (lib_score>con_score) & (lib_score>ndp_score):\n",
    "            lib_count+=1\n",
    "            tweet_df.set_value(i,'party','Liberal')\n",
    "        elif (con_score>lib_score) & (con_score>ndp_score):\n",
    "            con_count+=1\n",
    "            tweet_df.set_value(i,'party','Conservative')\n",
    "        elif (ndp_score>con_score) & (ndp_score>lib_score): \n",
    "            npd_count+=1\n",
    "            tweet_df.set_value(i,'party','NDP')\n",
    "#         elif (ndp_score==0) & (con_score==0) & (lib_score==0) :\n",
    "        else:\n",
    "            oth_count+=1\n",
    "            tweet_df.set_value(i,'party','Other')\n",
    "\n",
    "    print('lib_count: ',lib_count)\n",
    "    print('con_count: ',con_count)\n",
    "    print('npd_count: ',npd_count)\n",
    "    print('oth_count: ',oth_count)\n",
    "    \n",
    "    # Print pyplot of tweet distributions by political party\n",
    "    \n",
    "    import matplotlib.pyplot as pyplt\n",
    " \n",
    "    labels = ['Cookies', 'Jellybean', 'Milkshake', 'Cheesecake']\n",
    "    sizes = [38.4, 40.6, 20.7, 10.3]\n",
    "    colors = ['yellowgreen', 'gold', 'lightskyblue', 'lightcoral']\n",
    "    patches, texts = plt.pie(sizes, colors=colors, shadow=True, startangle=90)\n",
    "    pyplt.legend(patches, labels, loc=\"best\")\n",
    "    pyplt.axis('equal')\n",
    "    pyplt.tight_layout()\n",
    "    pyplt.show()\n",
    "    \n",
    "    return tweet_df"
   ]
  },
  {
   "cell_type": "code",
   "execution_count": 86,
   "metadata": {
    "collapsed": false,
    "scrolled": true
   },
   "outputs": [
    {
     "name": "stdout",
     "output_type": "stream",
     "text": [
      "lib_count:  578\n",
      "con_count:  625\n",
      "npd_count:  300\n",
      "oth_count:  1575\n"
     ]
    }
   ],
   "source": [
    "unclassified_tweets = assign_party(unclassified_tweets)"
   ]
  },
  {
   "cell_type": "code",
   "execution_count": 87,
   "metadata": {
    "collapsed": false,
    "scrolled": true
   },
   "outputs": [
    {
     "data": {
      "text/html": [
       "<div>\n",
       "<table border=\"1\" class=\"dataframe\">\n",
       "  <thead>\n",
       "    <tr style=\"text-align: right;\">\n",
       "      <th></th>\n",
       "      <th>text</th>\n",
       "      <th>party</th>\n",
       "    </tr>\n",
       "  </thead>\n",
       "  <tbody>\n",
       "    <tr>\n",
       "      <th>0</th>\n",
       "      <td>living dream cameraman camera cameraception ca...</td>\n",
       "      <td>NDP</td>\n",
       "    </tr>\n",
       "    <tr>\n",
       "      <th>1</th>\n",
       "      <td>justin trudeau reasons thanksgiving today mont...</td>\n",
       "      <td>Liberal</td>\n",
       "    </tr>\n",
       "    <tr>\n",
       "      <th>2</th>\n",
       "      <td>themadape butt butt re allergic latex makes sn...</td>\n",
       "      <td>Other</td>\n",
       "    </tr>\n",
       "    <tr>\n",
       "      <th>3</th>\n",
       "      <td>massive explosions peace march turkey 30 kille...</td>\n",
       "      <td>Other</td>\n",
       "    </tr>\n",
       "    <tr>\n",
       "      <th>4</th>\n",
       "      <td>mulcair suggests there bad blood between him t...</td>\n",
       "      <td>NDP</td>\n",
       "    </tr>\n",
       "  </tbody>\n",
       "</table>\n",
       "</div>"
      ],
      "text/plain": [
       "                                                text    party\n",
       "0  living dream cameraman camera cameraception ca...      NDP\n",
       "1  justin trudeau reasons thanksgiving today mont...  Liberal\n",
       "2  themadape butt butt re allergic latex makes sn...    Other\n",
       "3  massive explosions peace march turkey 30 kille...    Other\n",
       "4  mulcair suggests there bad blood between him t...      NDP"
      ]
     },
     "execution_count": 87,
     "metadata": {},
     "output_type": "execute_result"
    }
   ],
   "source": [
    "unclassified_tweets.head()"
   ]
  },
  {
   "cell_type": "markdown",
   "metadata": {},
   "source": [
    "## Model Preparation\n",
    "Create logistic regression to predict if a tweet is positive or negative\n",
    "The feature space will be created with term frequency-inverse document frequency scores which assigns values to a tweet according to the frequency of words within a twet as well as the rarity of that term within all documents(in theis case tweets). "
   ]
  },
  {
   "cell_type": "code",
   "execution_count": 91,
   "metadata": {
    "collapsed": false
   },
   "outputs": [
    {
     "data": {
      "text/plain": [
       "(200000, 147540)"
      ]
     },
     "execution_count": 91,
     "metadata": {},
     "output_type": "execute_result"
    }
   ],
   "source": [
    "# Create vectorizer to score each word in each tweet according to (Term Frequency)*(Inverse Document Frequency)\n",
    "vectorizer = TfidfVectorizer(stop_words=stop_words)\n",
    "\n",
    "# create list of all tweets\n",
    "tweet_list = []\n",
    "for tweet in classified_tweets.text:\n",
    "    tweet_list.append(tweet)\n",
    "\n",
    "# Create TFIDF feature space\n",
    "vocab = vectorizer.fit_transform(tweet_list)\n",
    "vocab.get_shape()"
   ]
  },
  {
   "cell_type": "code",
   "execution_count": 92,
   "metadata": {
    "collapsed": false
   },
   "outputs": [],
   "source": [
    "# Create target vector based on true sentiment\n",
    "target = classified_tweets['class'].as_matrix()"
   ]
  },
  {
   "cell_type": "code",
   "execution_count": 36,
   "metadata": {
    "collapsed": false
   },
   "outputs": [],
   "source": [
    "# Create 70/30 train/test split of data\n",
    "features_train, features_test, target_train, target_test = train_test_split(vocab, target, test_size=0.3)"
   ]
  },
  {
   "cell_type": "code",
   "execution_count": 37,
   "metadata": {
    "collapsed": true
   },
   "outputs": [],
   "source": [
    "# Initialize regression model\n",
    "log_clf = LogisticRegression()"
   ]
  },
  {
   "cell_type": "code",
   "execution_count": 38,
   "metadata": {
    "collapsed": false
   },
   "outputs": [],
   "source": [
    "# Create Regression model on train split\n",
    "clfModel = log_clf.fit(features_train, target_train)"
   ]
  },
  {
   "cell_type": "code",
   "execution_count": 39,
   "metadata": {
    "collapsed": true
   },
   "outputs": [],
   "source": [
    "# Create prediction for test split\n",
    "target_pred = clfModel.predict(features_test)"
   ]
  },
  {
   "cell_type": "code",
   "execution_count": 90,
   "metadata": {
    "collapsed": false
   },
   "outputs": [
    {
     "name": "stdout",
     "output_type": "stream",
     "text": [
      "The accuracy of the model is:  74.785 %\n"
     ]
    }
   ],
   "source": [
    "print('The accuracy of the model is: ',100*metrics.accuracy_score(target_test, target_pred),'%')"
   ]
  },
  {
   "cell_type": "code",
   "execution_count": 88,
   "metadata": {
    "collapsed": false
   },
   "outputs": [
    {
     "data": {
      "text/html": [
       "<div>\n",
       "<table border=\"1\" class=\"dataframe\">\n",
       "  <thead>\n",
       "    <tr style=\"text-align: right;\">\n",
       "      <th></th>\n",
       "      <th>Predicted Negative</th>\n",
       "      <th>Predicted Positive</th>\n",
       "    </tr>\n",
       "  </thead>\n",
       "  <tbody>\n",
       "    <tr>\n",
       "      <th>True Negative</th>\n",
       "      <td>21308</td>\n",
       "      <td>8830</td>\n",
       "    </tr>\n",
       "    <tr>\n",
       "      <th>True Positive</th>\n",
       "      <td>6299</td>\n",
       "      <td>23563</td>\n",
       "    </tr>\n",
       "  </tbody>\n",
       "</table>\n",
       "</div>"
      ],
      "text/plain": [
       "               Predicted Negative  Predicted Positive\n",
       "True Negative               21308                8830\n",
       "True Positive                6299               23563"
      ]
     },
     "execution_count": 88,
     "metadata": {},
     "output_type": "execute_result"
    }
   ],
   "source": [
    "# Plot confusion matrix of true posivite, true negative, false positive, false negative predictions\n",
    "pd.DataFrame(metrics.confusion_matrix(target_test, target_pred),\n",
    "             columns=['Predicted Negative','Predicted Positive'],\n",
    "             index=['True Negative','True Positive'])"
   ]
  },
  {
   "cell_type": "markdown",
   "metadata": {},
   "source": [
    "# Bonus Marks: Logistic Regression hyperparameter tuning\n",
    "Explore logistic regression hyperparameters to improve model accuracy"
   ]
  },
  {
   "cell_type": "code",
   "execution_count": 135,
   "metadata": {
    "collapsed": false
   },
   "outputs": [],
   "source": [
    "# Create list of hyperparameters\n",
    "params = np.logspace(-2, 2, num=15)\n",
    "score = []\n",
    "\n",
    "# Perform regression on each parameter c\n",
    "for c in params:\n",
    "    clf_hyp = LogisticRegression(C=c)\n",
    "    clfModel_hyp = clf_hyp.fit(features_train, target_train)\n",
    "    target_pred_hyp = clfModel_hyp.predict(features_test)\n",
    "    score.append(metrics.accuracy_score(target_test, target_pred_hyp))\n",
    "# print(params)\n",
    "# print(score)"
   ]
  },
  {
   "cell_type": "code",
   "execution_count": 136,
   "metadata": {
    "collapsed": false
   },
   "outputs": [
    {
     "name": "stdout",
     "output_type": "stream",
     "text": [
      "Highest Accuracy:  0.747485714286\n",
      "Best Estimator:  1.0\n"
     ]
    }
   ],
   "source": [
    "# Alternate method with Gridsearch and 5-fold cross validation\n",
    "params = np.logspace(-2, 2, num=15)\n",
    "param_grid = {'C': params }\n",
    "log_clf_hyp = GridSearchCV(LogisticRegression(), param_grid, cv=5, scoring='accuracy')\n",
    "log_clf_hyp.fit(features_train, target_train)\n",
    "# print(log_clf_hyp)\n",
    "print('Highest Accuracy: ',log_clf_hyp.best_score_)\n",
    "print('Best Estimator: ',log_clf_hyp.best_estimator_.C)"
   ]
  },
  {
   "cell_type": "code",
   "execution_count": 137,
   "metadata": {
    "collapsed": false
   },
   "outputs": [
    {
     "data": {
      "image/png": "[encoded data removed]",
      "text/plain": [
       "<matplotlib.figure.Figure at 0x122baa780>"
      ]
     },
     "metadata": {},
     "output_type": "display_data"
    }
   ],
   "source": [
    "# Plot accuracy vs hyperparameter\n",
    "plt.figure()\n",
    "accuracy=plt.errorbar(params, score, color=sns.xkcd_rgb[\"pale red\"])\n",
    "plt.xlabel('Hyperparameter')\n",
    "plt.xscale(\"log\")\n",
    "plt.ylabel('Accuracy')\n",
    "plt.title(\"Accuracy vs Logistic Hyperparameters\")\n",
    "plt.show()"
   ]
  },
  {
   "cell_type": "markdown",
   "metadata": {},
   "source": [
    "## Comments\n",
    "The logistic regression performs as expected, it experiences both overfitting and underfitting at both extreme values of the hyperparameter. The parameter, c, passed to the function is the inverse regularizer weight, meaning values left of the peak represent underfitting to the train data, and values to the right of the peak are overfitting to the data.\n",
    "\n",
    "This analysis revealed that a hyperparameter of 1 ,is optimal."
   ]
  },
  {
   "cell_type": "markdown",
   "metadata": {},
   "source": [
    "# Model Implementation\n",
    "Predict the sentiment of each political party's tweets"
   ]
  },
  {
   "cell_type": "code",
   "execution_count": 112,
   "metadata": {
    "collapsed": false,
    "scrolled": true
   },
   "outputs": [],
   "source": [
    "# Divide Unclassified Tweets by political party \n",
    "con_tweet = unclassified_tweets.loc[(unclassified_tweets['party']=='Conservative')]\n",
    "con_tweet = con_tweet.reset_index(drop=True)\n",
    "lib_tweet = unclassified_tweets.loc[(unclassified_tweets['party']=='Liberal')]\n",
    "lib_tweet = lib_tweet.reset_index(drop=True)\n",
    "ndp_tweet = unclassified_tweets.loc[(unclassified_tweets['party']=='NDP')]\n",
    "ndp_tweet = ndp_tweet.reset_index(drop=True)\n",
    "oth_tweet = unclassified_tweets.loc[(unclassified_tweets['party']=='Other')]\n",
    "oth_tweet = oth_tweet.reset_index(drop=True)"
   ]
  },
  {
   "cell_type": "code",
   "execution_count": 113,
   "metadata": {
    "collapsed": false
   },
   "outputs": [],
   "source": [
    "# Convert tweets into list\n",
    "con_list = []\n",
    "for tweet in con_tweet.text:\n",
    "    con_list.append(tweet)\n",
    "lib_list = []\n",
    "for tweet in lib_tweet.text:\n",
    "    lib_list.append(tweet)\n",
    "ndp_list = []\n",
    "for tweet in ndp_tweet.text:\n",
    "    ndp_list.append(tweet)\n",
    "oth_list = []\n",
    "for tweet in oth_tweet.text:\n",
    "    oth_list.append(tweet)"
   ]
  },
  {
   "cell_type": "code",
   "execution_count": 114,
   "metadata": {
    "collapsed": false
   },
   "outputs": [],
   "source": [
    "# Convert tweets into tfidf vector space in order to feed them into regression model\n",
    "con_vocab = vectorizer.transform(con_list)\n",
    "lib_vocab = vectorizer.transform(lib_list)\n",
    "ndp_vocab = vectorizer.transform(ndp_list)\n",
    "oth_vocab = vectorizer.transform(oth_list)"
   ]
  },
  {
   "cell_type": "code",
   "execution_count": 115,
   "metadata": {
    "collapsed": false
   },
   "outputs": [],
   "source": [
    "# Use regression model to predict sentiment of each tweet in each political party\n",
    "con_pred = clfModel.predict(con_vocab)\n",
    "lib_pred = clfModel.predict(lib_vocab)\n",
    "ndp_pred = clfModel.predict(ndp_vocab)\n",
    "oth_pred = clfModel.predict(oth_vocab)"
   ]
  },
  {
   "cell_type": "code",
   "execution_count": 116,
   "metadata": {
    "collapsed": true
   },
   "outputs": [],
   "source": [
    "# Define function to plot sentiment count for each party\n",
    "def sentiment_plotter (sentiment, plt_title):\n",
    "    objects = ('Negative','Positive')\n",
    "    y_pos = np.arange(len(objects))\n",
    "    performance = [sentiment.tolist().count(0),sentiment.tolist().count(4)]\n",
    "\n",
    "    plt.bar(y_pos, performance, align='center', alpha=0.5)\n",
    "    plt.xticks(y_pos, objects)\n",
    "    plt.ylabel('Count')\n",
    "    plt.title(plt_title)\n",
    "\n",
    "    plt.show()"
   ]
  },
  {
   "cell_type": "code",
   "execution_count": 117,
   "metadata": {
    "collapsed": false
   },
   "outputs": [
    {
     "data": {
      "image/png": "[encoded data removed]",
      "text/plain": [
       "<matplotlib.figure.Figure at 0x1204b8160>"
      ]
     },
     "metadata": {},
     "output_type": "display_data"
    }
   ],
   "source": [
    "sentiment_plotter(con_pred,'Conservative Tweet Sentiment')"
   ]
  },
  {
   "cell_type": "code",
   "execution_count": 118,
   "metadata": {
    "collapsed": false
   },
   "outputs": [
    {
     "data": {
      "image/png": "[encoded data removed]",
      "text/plain": [
       "<matplotlib.figure.Figure at 0x122ac2240>"
      ]
     },
     "metadata": {},
     "output_type": "display_data"
    }
   ],
   "source": [
    "sentiment_plotter(lib_pred,'Liberal Tweet Sentiment')"
   ]
  },
  {
   "cell_type": "code",
   "execution_count": 119,
   "metadata": {
    "collapsed": false
   },
   "outputs": [
    {
     "data": {
      "image/png": "[encoded data removed]",
      "text/plain": [
       "<matplotlib.figure.Figure at 0x126ba4f98>"
      ]
     },
     "metadata": {},
     "output_type": "display_data"
    }
   ],
   "source": [
    "sentiment_plotter(ndp_pred,'NDP Tweet Sentiment')"
   ]
  },
  {
   "cell_type": "code",
   "execution_count": 120,
   "metadata": {
    "collapsed": false
   },
   "outputs": [
    {
     "data": {
      "image/png": "[encoded data removed]",
      "text/plain": [
       "<matplotlib.figure.Figure at 0x122a134a8>"
      ]
     },
     "metadata": {},
     "output_type": "display_data"
    }
   ],
   "source": [
    "sentiment_plotter(oth_pred,'Unclassified Tweet Sentiment')"
   ]
  },
  {
   "cell_type": "markdown",
   "metadata": {},
   "source": [
    "# Discussion\n",
    "Interpretation of results"
   ]
  },
  {
   "cell_type": "code",
   "execution_count": null,
   "metadata": {
    "collapsed": true
   },
   "outputs": [],
   "source": []
  }
 ],
 "metadata": {
  "kernelspec": {
   "display_name": "Python 3",
   "language": "python",
   "name": "python3"
  },
  "language_info": {
   "codemirror_mode": {
    "name": "ipython",
    "version": 3
   },
   "file_extension": ".py",
   "mimetype": "text/x-python",
   "name": "python",
   "nbconvert_exporter": "python",
   "pygments_lexer": "ipython3",
   "version": "3.6.0"
  }
 },
 "nbformat": 4,
 "nbformat_minor": 2
}
